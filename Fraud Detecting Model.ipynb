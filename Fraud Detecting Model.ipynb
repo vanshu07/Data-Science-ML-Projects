{
 "cells": [
  {
   "cell_type": "markdown",
   "metadata": {},
   "source": [
    "# Fraud Detecting Model"
   ]
  },
  {
   "cell_type": "markdown",
   "metadata": {},
   "source": [
    "*Importing Liberaries*"
   ]
  },
  {
   "cell_type": "code",
   "execution_count": 1,
   "metadata": {
    "_cell_guid": "b1076dfc-b9ad-4769-8c92-a6c4dae69d19",
    "_uuid": "8f2839f25d086af736a60e9eeb907d3b93b6e0e5",
    "execution": {
     "iopub.execute_input": "2022-03-18T08:26:44.546746Z",
     "iopub.status.busy": "2022-03-18T08:26:44.545871Z",
     "iopub.status.idle": "2022-03-18T08:26:44.555987Z",
     "shell.execute_reply": "2022-03-18T08:26:44.555390Z",
     "shell.execute_reply.started": "2022-03-18T08:26:44.546629Z"
    }
   },
   "outputs": [],
   "source": [
    "import numpy as np # linear algebra\n",
    "import pandas as pd # data processing, CSV file I/O (e.g. pd.read_csv)"
   ]
  },
  {
   "cell_type": "code",
   "execution_count": 2,
   "metadata": {
    "execution": {
     "iopub.execute_input": "2022-03-18T08:26:45.596616Z",
     "iopub.status.busy": "2022-03-18T08:26:45.596083Z",
     "iopub.status.idle": "2022-03-18T08:26:46.374285Z",
     "shell.execute_reply": "2022-03-18T08:26:46.373381Z",
     "shell.execute_reply.started": "2022-03-18T08:26:45.596568Z"
    }
   },
   "outputs": [],
   "source": [
    "# Importing Daya Visualization libraries\n",
    "import matplotlib.pyplot as plt\n",
    "import seaborn as sns\n",
    "%matplotlib inline"
   ]
  },
  {
   "cell_type": "code",
   "execution_count": 3,
   "metadata": {
    "execution": {
     "iopub.execute_input": "2022-03-18T08:26:47.673356Z",
     "iopub.status.busy": "2022-03-18T08:26:47.673036Z",
     "iopub.status.idle": "2022-03-18T08:26:47.677834Z",
     "shell.execute_reply": "2022-03-18T08:26:47.677126Z",
     "shell.execute_reply.started": "2022-03-18T08:26:47.673323Z"
    }
   },
   "outputs": [],
   "source": [
    "# to ignore warning\n",
    "import warnings\n",
    "warnings.filterwarnings(\"ignore\")#, category=DeprecationWarning)"
   ]
  },
  {
   "cell_type": "markdown",
   "metadata": {},
   "source": [
    "*Importing the Data File*"
   ]
  },
  {
   "cell_type": "code",
   "execution_count": 4,
   "metadata": {
    "execution": {
     "iopub.execute_input": "2022-03-18T08:26:50.616438Z",
     "iopub.status.busy": "2022-03-18T08:26:50.615715Z",
     "iopub.status.idle": "2022-03-18T08:27:04.529752Z",
     "shell.execute_reply": "2022-03-18T08:27:04.529023Z",
     "shell.execute_reply.started": "2022-03-18T08:26:50.616402Z"
    }
   },
   "outputs": [],
   "source": [
    "df= pd.read_csv('Fraud.csv')"
   ]
  },
  {
   "cell_type": "markdown",
   "metadata": {},
   "source": [
    "# The Data"
   ]
  },
  {
   "cell_type": "code",
   "execution_count": 5,
   "metadata": {
    "execution": {
     "iopub.execute_input": "2022-03-18T08:27:12.423925Z",
     "iopub.status.busy": "2022-03-18T08:27:12.423468Z",
     "iopub.status.idle": "2022-03-18T08:27:12.448023Z",
     "shell.execute_reply": "2022-03-18T08:27:12.447232Z",
     "shell.execute_reply.started": "2022-03-18T08:27:12.423874Z"
    }
   },
   "outputs": [
    {
     "data": {
      "text/html": [
       "<div>\n",
       "<style scoped>\n",
       "    .dataframe tbody tr th:only-of-type {\n",
       "        vertical-align: middle;\n",
       "    }\n",
       "\n",
       "    .dataframe tbody tr th {\n",
       "        vertical-align: top;\n",
       "    }\n",
       "\n",
       "    .dataframe thead th {\n",
       "        text-align: right;\n",
       "    }\n",
       "</style>\n",
       "<table border=\"1\" class=\"dataframe\">\n",
       "  <thead>\n",
       "    <tr style=\"text-align: right;\">\n",
       "      <th></th>\n",
       "      <th>step</th>\n",
       "      <th>type</th>\n",
       "      <th>amount</th>\n",
       "      <th>nameOrig</th>\n",
       "      <th>oldbalanceOrg</th>\n",
       "      <th>newbalanceOrig</th>\n",
       "      <th>nameDest</th>\n",
       "      <th>oldbalanceDest</th>\n",
       "      <th>newbalanceDest</th>\n",
       "      <th>isFraud</th>\n",
       "      <th>isFlaggedFraud</th>\n",
       "    </tr>\n",
       "  </thead>\n",
       "  <tbody>\n",
       "    <tr>\n",
       "      <th>0</th>\n",
       "      <td>1</td>\n",
       "      <td>PAYMENT</td>\n",
       "      <td>9839.64</td>\n",
       "      <td>C1231006815</td>\n",
       "      <td>170136.0</td>\n",
       "      <td>160296.36</td>\n",
       "      <td>M1979787155</td>\n",
       "      <td>0.0</td>\n",
       "      <td>0.0</td>\n",
       "      <td>0</td>\n",
       "      <td>0</td>\n",
       "    </tr>\n",
       "    <tr>\n",
       "      <th>1</th>\n",
       "      <td>1</td>\n",
       "      <td>PAYMENT</td>\n",
       "      <td>1864.28</td>\n",
       "      <td>C1666544295</td>\n",
       "      <td>21249.0</td>\n",
       "      <td>19384.72</td>\n",
       "      <td>M2044282225</td>\n",
       "      <td>0.0</td>\n",
       "      <td>0.0</td>\n",
       "      <td>0</td>\n",
       "      <td>0</td>\n",
       "    </tr>\n",
       "    <tr>\n",
       "      <th>2</th>\n",
       "      <td>1</td>\n",
       "      <td>TRANSFER</td>\n",
       "      <td>181.00</td>\n",
       "      <td>C1305486145</td>\n",
       "      <td>181.0</td>\n",
       "      <td>0.00</td>\n",
       "      <td>C553264065</td>\n",
       "      <td>0.0</td>\n",
       "      <td>0.0</td>\n",
       "      <td>1</td>\n",
       "      <td>0</td>\n",
       "    </tr>\n",
       "    <tr>\n",
       "      <th>3</th>\n",
       "      <td>1</td>\n",
       "      <td>CASH_OUT</td>\n",
       "      <td>181.00</td>\n",
       "      <td>C840083671</td>\n",
       "      <td>181.0</td>\n",
       "      <td>0.00</td>\n",
       "      <td>C38997010</td>\n",
       "      <td>21182.0</td>\n",
       "      <td>0.0</td>\n",
       "      <td>1</td>\n",
       "      <td>0</td>\n",
       "    </tr>\n",
       "    <tr>\n",
       "      <th>4</th>\n",
       "      <td>1</td>\n",
       "      <td>PAYMENT</td>\n",
       "      <td>11668.14</td>\n",
       "      <td>C2048537720</td>\n",
       "      <td>41554.0</td>\n",
       "      <td>29885.86</td>\n",
       "      <td>M1230701703</td>\n",
       "      <td>0.0</td>\n",
       "      <td>0.0</td>\n",
       "      <td>0</td>\n",
       "      <td>0</td>\n",
       "    </tr>\n",
       "  </tbody>\n",
       "</table>\n",
       "</div>"
      ],
      "text/plain": [
       "   step      type    amount     nameOrig  oldbalanceOrg  newbalanceOrig  \\\n",
       "0     1   PAYMENT   9839.64  C1231006815       170136.0       160296.36   \n",
       "1     1   PAYMENT   1864.28  C1666544295        21249.0        19384.72   \n",
       "2     1  TRANSFER    181.00  C1305486145          181.0            0.00   \n",
       "3     1  CASH_OUT    181.00   C840083671          181.0            0.00   \n",
       "4     1   PAYMENT  11668.14  C2048537720        41554.0        29885.86   \n",
       "\n",
       "      nameDest  oldbalanceDest  newbalanceDest  isFraud  isFlaggedFraud  \n",
       "0  M1979787155             0.0             0.0        0               0  \n",
       "1  M2044282225             0.0             0.0        0               0  \n",
       "2   C553264065             0.0             0.0        1               0  \n",
       "3    C38997010         21182.0             0.0        1               0  \n",
       "4  M1230701703             0.0             0.0        0               0  "
      ]
     },
     "execution_count": 5,
     "metadata": {},
     "output_type": "execute_result"
    }
   ],
   "source": [
    "df.head()"
   ]
  },
  {
   "cell_type": "code",
   "execution_count": 6,
   "metadata": {
    "execution": {
     "iopub.execute_input": "2022-03-18T08:27:16.489561Z",
     "iopub.status.busy": "2022-03-18T08:27:16.489307Z",
     "iopub.status.idle": "2022-03-18T08:27:16.501916Z",
     "shell.execute_reply": "2022-03-18T08:27:16.501282Z",
     "shell.execute_reply.started": "2022-03-18T08:27:16.489536Z"
    }
   },
   "outputs": [
    {
     "name": "stdout",
     "output_type": "stream",
     "text": [
      "<class 'pandas.core.frame.DataFrame'>\n",
      "RangeIndex: 6362620 entries, 0 to 6362619\n",
      "Data columns (total 11 columns):\n",
      " #   Column          Dtype  \n",
      "---  ------          -----  \n",
      " 0   step            int64  \n",
      " 1   type            object \n",
      " 2   amount          float64\n",
      " 3   nameOrig        object \n",
      " 4   oldbalanceOrg   float64\n",
      " 5   newbalanceOrig  float64\n",
      " 6   nameDest        object \n",
      " 7   oldbalanceDest  float64\n",
      " 8   newbalanceDest  float64\n",
      " 9   isFraud         int64  \n",
      " 10  isFlaggedFraud  int64  \n",
      "dtypes: float64(5), int64(3), object(3)\n",
      "memory usage: 534.0+ MB\n"
     ]
    }
   ],
   "source": [
    "# Data Info\n",
    "df.info()"
   ]
  },
  {
   "cell_type": "markdown",
   "metadata": {},
   "source": [
    "There are 1000 rows and 11 columns"
   ]
  },
  {
   "cell_type": "markdown",
   "metadata": {},
   "source": [
    "# Exploratory Data Analysis"
   ]
  },
  {
   "cell_type": "markdown",
   "metadata": {},
   "source": [
    "*Checking the missing values* "
   ]
  },
  {
   "cell_type": "code",
   "execution_count": 9,
   "metadata": {},
   "outputs": [],
   "source": [
    "# If heatmap is taking too much time to load, then run the below print code"
   ]
  },
  {
   "cell_type": "code",
   "execution_count": 7,
   "metadata": {},
   "outputs": [
    {
     "data": {
      "text/plain": [
       "<AxesSubplot:>"
      ]
     },
     "execution_count": 7,
     "metadata": {},
     "output_type": "execute_result"
    },
    {
     "data": {
      "image/png": "[encoded data removed]",
      "text/plain": [
       "<Figure size 432x288 with 1 Axes>"
      ]
     },
     "metadata": {
      "needs_background": "light"
     },
     "output_type": "display_data"
    }
   ],
   "source": [
    "sns.heatmap(df.isnull(), yticklabels=False, cbar=False, cmap='YlGnBu_r')\n",
    "\n",
    "#print(\"Any missing data?\",df.isnull().sum().any())"
   ]
  },
  {
   "cell_type": "markdown",
   "metadata": {},
   "source": [
    "As we can see, there is all blue color and no other color disturbance is present. \n",
    " So, there is no missing values in data"
   ]
  },
  {
   "cell_type": "code",
   "execution_count": 8,
   "metadata": {
    "execution": {
     "iopub.execute_input": "2022-03-18T08:27:49.195521Z",
     "iopub.status.busy": "2022-03-18T08:27:49.195194Z",
     "iopub.status.idle": "2022-03-18T08:27:50.897408Z",
     "shell.execute_reply": "2022-03-18T08:27:50.896854Z",
     "shell.execute_reply.started": "2022-03-18T08:27:49.195489Z"
    }
   },
   "outputs": [
    {
     "data": {
      "text/plain": [
       "Text(0.5, 1.0, 'Correlation Matrix')"
      ]
     },
     "execution_count": 8,
     "metadata": {},
     "output_type": "execute_result"
    },
    {
     "data": {
      "image/png": "[encoded data removed]",
      "text/plain": [
       "<Figure size 576x432 with 2 Axes>"
      ]
     },
     "metadata": {
      "needs_background": "light"
     },
     "output_type": "display_data"
    }
   ],
   "source": [
    "plt.figure(figsize=(8,6))\n",
    "sns.heatmap(df.corr(), cmap='viridis')\n",
    "plt.title('Correlation Matrix', size=16)"
   ]
  },
  {
   "cell_type": "markdown",
   "metadata": {},
   "source": [
    "*Finding the Total No. of Transaction of All Types*"
   ]
  },
  {
   "cell_type": "code",
   "execution_count": 10,
   "metadata": {
    "execution": {
     "iopub.execute_input": "2022-03-18T08:27:50.899004Z",
     "iopub.status.busy": "2022-03-18T08:27:50.898726Z",
     "iopub.status.idle": "2022-03-18T08:28:00.818306Z",
     "shell.execute_reply": "2022-03-18T08:28:00.817405Z",
     "shell.execute_reply.started": "2022-03-18T08:27:50.898979Z"
    }
   },
   "outputs": [
    {
     "data": {
      "text/plain": [
       "Text(0.5, 0, 'Transaction Type')"
      ]
     },
     "execution_count": 10,
     "metadata": {},
     "output_type": "execute_result"
    },
    {
     "data": {
      "image/png": "[encoded data removed]",
      "text/plain": [
       "<Figure size 576x432 with 1 Axes>"
      ]
     },
     "metadata": {
      "needs_background": "light"
     },
     "output_type": "display_data"
    }
   ],
   "source": [
    "d= df.groupby('type').count()\n",
    "plt.figure(figsize=(8,6))\n",
    "ax= sns.countplot(x='type', data= df)\n",
    "for p in ax.patches:\n",
    "    ax.annotate(str(format(int(p.get_height()), ',d')), (p.get_x()+0.24, p.get_height()*1.01))\n",
    "plt.title('Total No. of Transactions of all Types')\n",
    "plt.yticks([])\n",
    "plt.xlabel(\"Transaction Type\")"
   ]
  },
  {
   "cell_type": "markdown",
   "metadata": {},
   "source": [
    "*Finding Valid & Fraud Transaction*"
   ]
  },
  {
   "cell_type": "code",
   "execution_count": 14,
   "metadata": {},
   "outputs": [
    {
     "data": {
      "image/png": "[encoded data removed]",
      "text/plain": [
       "<Figure size 864x432 with 2 Axes>"
      ]
     },
     "metadata": {
      "needs_background": "light"
     },
     "output_type": "display_data"
    },
    {
     "name": "stdout",
     "output_type": "stream",
     "text": [
      "No of Valid transactions: 6354407 i.e 99.87 %\n",
      "No of Fraud transactions: 8213 i.e 0.13 %\n",
      "\n",
      "\n",
      "No of Valid transactions: 6362604 i.e 99.87 %\n",
      "No of Flagged Fraud transactions: 16 i.e 99.87 % \n",
      "\n"
     ]
    }
   ],
   "source": [
    "fig, axes= plt.subplots(nrows=1,ncols=2,figsize=(12,6), sharex= True)\n",
    "fig.suptitle(\"Valid vs Fraud & Flagged_Fraud Transactions\", size=17)\n",
    "\n",
    "d= df.groupby('isFraud').count()\n",
    "axes[0].set_title(\"Total No. of Valid & Flagged Fraud Transaction\",size=11)\n",
    "a1= sns.countplot(data= df, x='isFraud', ax=axes[0], palette='GnBu')\n",
    "for p in a1.patches:\n",
    "    a1.annotate(str(format(int(p.get_height()), ',d')), (p.get_x()+0.24, p.get_height()*1.01))\n",
    "axes[0].set_ylabel('')\n",
    "\n",
    "d= df.groupby('isFlaggedFraud').count()\n",
    "axes[1].set_title(\"Total No. of Valid & Flagged Fraud Transaction\",size=11)\n",
    "a2= sns.countplot(data= df, x='isFlaggedFraud', ax=axes[1], palette='GnBu')\n",
    "for q in a2.patches:\n",
    "    a2.annotate(str(format(int(q.get_height()), ',d')), (q.get_x()+0.24, q.get_height()*1.01))\n",
    "axes[1].set_ylabel('')\n",
    "\n",
    "plt.tight_layout()\n",
    "plt.show() \n",
    "\n",
    "#print('\\n')\n",
    "print(\"No of Valid transactions:\",df[df['isFraud']==0]['isFraud'].count(),'i.e',round(df[df['isFraud']==0]['isFraud'].count()/df.shape[0] * 100,2),'%')\n",
    "print(\"No of Fraud transactions:\",df[df['isFraud']==1]['isFraud'].count(),'i.e',round(df[df['isFraud']==1]['isFraud'].count()/df.shape[0] * 100,2),'%')\n",
    "\n",
    "print('\\n')\n",
    "print(\"No of Valid transactions:\",df[df['isFlaggedFraud']==0]['isFlaggedFraud'].count(),'i.e',round(df[df['isFraud']==0]['isFlaggedFraud'].count()/df.shape[0] * 100,2),\"%\")\n",
    "print(\"No of Flagged Fraud transactions:\",df[df['isFlaggedFraud']==1]['isFlaggedFraud'].count(),'i.e',round(df[df['isFraud']==0]['isFlaggedFraud'].count()/df.shape[0] * 100,2),\"%\",\"\\n\")"
   ]
  },
  {
   "cell_type": "markdown",
   "metadata": {},
   "source": [
    "*Checking for any mistmatch in Balance at \"Origin\" or \"Destination\"*"
   ]
  },
  {
   "cell_type": "code",
   "execution_count": 15,
   "metadata": {
    "execution": {
     "iopub.execute_input": "2022-03-18T08:28:09.244572Z",
     "iopub.status.busy": "2022-03-18T08:28:09.244140Z",
     "iopub.status.idle": "2022-03-18T08:28:16.401117Z",
     "shell.execute_reply": "2022-03-18T08:28:16.400165Z",
     "shell.execute_reply.started": "2022-03-18T08:28:09.244525Z"
    }
   },
   "outputs": [
    {
     "data": {
      "image/png": "[encoded data removed]",
      "text/plain": [
       "<Figure size 864x504 with 2 Axes>"
      ]
     },
     "metadata": {
      "needs_background": "light"
     },
     "output_type": "display_data"
    },
    {
     "name": "stdout",
     "output_type": "stream",
     "text": [
      "\n",
      "\n",
      "Balance Error at the Origin: 5413997 i.e. 85.09 %\n",
      "Balance Error at the Destination: 4736674 i.e. 74.45 %\n"
     ]
    }
   ],
   "source": [
    "df['error_orig'] = (df[\"oldbalanceOrg\"] - df[\"amount\"] != df[\"newbalanceOrig\"]).astype(int)\n",
    "df['error_dest'] = (df[\"oldbalanceDest\"] + df[\"amount\"] != df[\"newbalanceDest\"]).astype(int)\n",
    "\n",
    "fig, axes= plt.subplots(nrows=1,ncols=2,figsize=(12,7), sharex= True)\n",
    "fig.suptitle(\"Balance Error\", size=17)\n",
    "\n",
    "d= df.groupby('error_orig').count()\n",
    "axes[0].set_title(\"At Origion\",size=13)\n",
    "a1= sns.countplot(data= df, x='error_orig', ax=axes[0])\n",
    "for p in a1.patches:\n",
    "    a1.annotate(str(format(int(p.get_height()), ',d')), (p.get_x()+0.24, p.get_height()*1.01))\n",
    "axes[0].set_ylabel('')\n",
    "\n",
    "d= df.groupby('error_dest').count()\n",
    "axes[1].set_title(\"At Destination\",size=13)\n",
    "a2= sns.countplot(data= df, x='error_dest', ax=axes[1])\n",
    "for q in a2.patches:\n",
    "    a2.annotate(str(format(int(q.get_height()), ',d')), (q.get_x()+0.24, q.get_height()*1.01))\n",
    "axes[1].set_ylabel('')\n",
    "\n",
    "plt.tight_layout()\n",
    "plt.show() \n",
    "\n",
    "print('\\n')\n",
    "print(\"Balance Error at the Origin:\",df['error_orig'].value_counts()[1],\"i.e.\",round(df['error_orig'].value_counts()[1]/df.shape[0] * 100,2),\"%\")\n",
    "print(\"Balance Error at the Destination:\",df['error_dest'].value_counts()[1],\"i.e.\",round(df['error_dest'].value_counts()[1]/df.shape[0] * 100,2),\"%\")"
   ]
  },
  {
   "cell_type": "code",
   "execution_count": 16,
   "metadata": {
    "execution": {
     "iopub.execute_input": "2022-03-18T08:28:16.403048Z",
     "iopub.status.busy": "2022-03-18T08:28:16.402519Z",
     "iopub.status.idle": "2022-03-18T08:28:16.446920Z",
     "shell.execute_reply": "2022-03-18T08:28:16.446325Z",
     "shell.execute_reply.started": "2022-03-18T08:28:16.402990Z"
    }
   },
   "outputs": [
    {
     "name": "stdout",
     "output_type": "stream",
     "text": [
      "Any transaction with amount less than or equal to 0?\n",
      "16 \n",
      "\n",
      "What type of transactions are they?\n",
      "CASH_OUT \n",
      "\n",
      "Are all these marked as Fraud Transactions?\n"
     ]
    },
    {
     "data": {
      "text/plain": [
       "True"
      ]
     },
     "execution_count": 16,
     "metadata": {},
     "output_type": "execute_result"
    }
   ],
   "source": [
    "print(\"Any transaction with amount less than or equal to 0?\")\n",
    "print(len(df[df.amount<=0]),'\\n')\n",
    "print(\"What type of transactions are they?\")\n",
    "print(df[df.amount<=0]['type'].value_counts().index[0],'\\n')\n",
    "print(\"Are all these marked as Fraud Transactions?\")\n",
    "df[df.amount<=0]['isFraud'].value_counts()[1] == len(df[df.amount<=0])"
   ]
  },
  {
   "cell_type": "markdown",
   "metadata": {
    "execution": {
     "iopub.execute_input": "2022-03-17T07:26:27.543378Z",
     "iopub.status.busy": "2022-03-17T07:26:27.542789Z",
     "iopub.status.idle": "2022-03-17T07:26:28.271206Z",
     "shell.execute_reply": "2022-03-17T07:26:28.270413Z",
     "shell.execute_reply.started": "2022-03-17T07:26:27.543324Z"
    }
   },
   "source": [
    "All the fraud transactions belong to Transfer or Cash-out type, so discard data corresponding to other types"
   ]
  },
  {
   "cell_type": "code",
   "execution_count": 17,
   "metadata": {
    "execution": {
     "iopub.execute_input": "2022-03-18T08:28:16.448191Z",
     "iopub.status.busy": "2022-03-18T08:28:16.447950Z",
     "iopub.status.idle": "2022-03-18T08:28:17.067519Z",
     "shell.execute_reply": "2022-03-18T08:28:17.066601Z",
     "shell.execute_reply.started": "2022-03-18T08:28:16.448137Z"
    }
   },
   "outputs": [
    {
     "data": {
      "text/html": [
       "<div>\n",
       "<style scoped>\n",
       "    .dataframe tbody tr th:only-of-type {\n",
       "        vertical-align: middle;\n",
       "    }\n",
       "\n",
       "    .dataframe tbody tr th {\n",
       "        vertical-align: top;\n",
       "    }\n",
       "\n",
       "    .dataframe thead th {\n",
       "        text-align: right;\n",
       "    }\n",
       "</style>\n",
       "<table border=\"1\" class=\"dataframe\">\n",
       "  <thead>\n",
       "    <tr style=\"text-align: right;\">\n",
       "      <th></th>\n",
       "      <th>step</th>\n",
       "      <th>type</th>\n",
       "      <th>amount</th>\n",
       "      <th>nameOrig</th>\n",
       "      <th>oldbalanceOrg</th>\n",
       "      <th>newbalanceOrig</th>\n",
       "      <th>nameDest</th>\n",
       "      <th>oldbalanceDest</th>\n",
       "      <th>newbalanceDest</th>\n",
       "      <th>isFraud</th>\n",
       "      <th>isFlaggedFraud</th>\n",
       "      <th>error_orig</th>\n",
       "      <th>error_dest</th>\n",
       "    </tr>\n",
       "  </thead>\n",
       "  <tbody>\n",
       "    <tr>\n",
       "      <th>2</th>\n",
       "      <td>1</td>\n",
       "      <td>TRANSFER</td>\n",
       "      <td>181.00</td>\n",
       "      <td>C1305486145</td>\n",
       "      <td>181.0</td>\n",
       "      <td>0.0</td>\n",
       "      <td>C553264065</td>\n",
       "      <td>0.0</td>\n",
       "      <td>0.00</td>\n",
       "      <td>1</td>\n",
       "      <td>0</td>\n",
       "      <td>0</td>\n",
       "      <td>1</td>\n",
       "    </tr>\n",
       "    <tr>\n",
       "      <th>3</th>\n",
       "      <td>1</td>\n",
       "      <td>CASH_OUT</td>\n",
       "      <td>181.00</td>\n",
       "      <td>C840083671</td>\n",
       "      <td>181.0</td>\n",
       "      <td>0.0</td>\n",
       "      <td>C38997010</td>\n",
       "      <td>21182.0</td>\n",
       "      <td>0.00</td>\n",
       "      <td>1</td>\n",
       "      <td>0</td>\n",
       "      <td>0</td>\n",
       "      <td>1</td>\n",
       "    </tr>\n",
       "    <tr>\n",
       "      <th>15</th>\n",
       "      <td>1</td>\n",
       "      <td>CASH_OUT</td>\n",
       "      <td>229133.94</td>\n",
       "      <td>C905080434</td>\n",
       "      <td>15325.0</td>\n",
       "      <td>0.0</td>\n",
       "      <td>C476402209</td>\n",
       "      <td>5083.0</td>\n",
       "      <td>51513.44</td>\n",
       "      <td>0</td>\n",
       "      <td>0</td>\n",
       "      <td>1</td>\n",
       "      <td>1</td>\n",
       "    </tr>\n",
       "    <tr>\n",
       "      <th>19</th>\n",
       "      <td>1</td>\n",
       "      <td>TRANSFER</td>\n",
       "      <td>215310.30</td>\n",
       "      <td>C1670993182</td>\n",
       "      <td>705.0</td>\n",
       "      <td>0.0</td>\n",
       "      <td>C1100439041</td>\n",
       "      <td>22425.0</td>\n",
       "      <td>0.00</td>\n",
       "      <td>0</td>\n",
       "      <td>0</td>\n",
       "      <td>1</td>\n",
       "      <td>1</td>\n",
       "    </tr>\n",
       "    <tr>\n",
       "      <th>24</th>\n",
       "      <td>1</td>\n",
       "      <td>TRANSFER</td>\n",
       "      <td>311685.89</td>\n",
       "      <td>C1984094095</td>\n",
       "      <td>10835.0</td>\n",
       "      <td>0.0</td>\n",
       "      <td>C932583850</td>\n",
       "      <td>6267.0</td>\n",
       "      <td>2719172.89</td>\n",
       "      <td>0</td>\n",
       "      <td>0</td>\n",
       "      <td>1</td>\n",
       "      <td>1</td>\n",
       "    </tr>\n",
       "  </tbody>\n",
       "</table>\n",
       "</div>"
      ],
      "text/plain": [
       "    step      type     amount     nameOrig  oldbalanceOrg  newbalanceOrig  \\\n",
       "2      1  TRANSFER     181.00  C1305486145          181.0             0.0   \n",
       "3      1  CASH_OUT     181.00   C840083671          181.0             0.0   \n",
       "15     1  CASH_OUT  229133.94   C905080434        15325.0             0.0   \n",
       "19     1  TRANSFER  215310.30  C1670993182          705.0             0.0   \n",
       "24     1  TRANSFER  311685.89  C1984094095        10835.0             0.0   \n",
       "\n",
       "       nameDest  oldbalanceDest  newbalanceDest  isFraud  isFlaggedFraud  \\\n",
       "2    C553264065             0.0            0.00        1               0   \n",
       "3     C38997010         21182.0            0.00        1               0   \n",
       "15   C476402209          5083.0        51513.44        0               0   \n",
       "19  C1100439041         22425.0            0.00        0               0   \n",
       "24   C932583850          6267.0      2719172.89        0               0   \n",
       "\n",
       "    error_orig  error_dest  \n",
       "2            0           1  \n",
       "3            0           1  \n",
       "15           1           1  \n",
       "19           1           1  \n",
       "24           1           1  "
      ]
     },
     "execution_count": 17,
     "metadata": {},
     "output_type": "execute_result"
    }
   ],
   "source": [
    "df= df.loc[(df['type'].isin(['TRANSFER', 'CASH_OUT']))]\n",
    "df.head()"
   ]
  },
  {
   "cell_type": "code",
   "execution_count": 18,
   "metadata": {
    "execution": {
     "iopub.execute_input": "2022-03-18T08:28:17.068794Z",
     "iopub.status.busy": "2022-03-18T08:28:17.068603Z",
     "iopub.status.idle": "2022-03-18T08:28:18.039934Z",
     "shell.execute_reply": "2022-03-18T08:28:18.038929Z",
     "shell.execute_reply.started": "2022-03-18T08:28:17.068771Z"
    }
   },
   "outputs": [
    {
     "data": {
      "image/png": "[encoded data removed]",
      "text/plain": [
       "<Figure size 720x576 with 1 Axes>"
      ]
     },
     "metadata": {},
     "output_type": "display_data"
    }
   ],
   "source": [
    "plt.figure(figsize=(10,8))\n",
    "plt.pie(df.type.value_counts().values,labels=df.type.value_counts().index,  autopct='%.0f%%')\n",
    "plt.title(\"Fraud Transaction Types & their percentage\", size=15)\n",
    "plt.show()"
   ]
  },
  {
   "cell_type": "code",
   "execution_count": 19,
   "metadata": {
    "execution": {
     "iopub.execute_input": "2022-03-18T08:28:18.042066Z",
     "iopub.status.busy": "2022-03-18T08:28:18.041601Z",
     "iopub.status.idle": "2022-03-18T08:28:18.466127Z",
     "shell.execute_reply": "2022-03-18T08:28:18.465229Z",
     "shell.execute_reply.started": "2022-03-18T08:28:18.042016Z"
    }
   },
   "outputs": [
    {
     "data": {
      "text/plain": [
       "Text(0.5, 0, 'Transaction Type')"
      ]
     },
     "execution_count": 19,
     "metadata": {},
     "output_type": "execute_result"
    },
    {
     "data": {
      "image/png": "[encoded data removed]",
      "text/plain": [
       "<Figure size 720x576 with 1 Axes>"
      ]
     },
     "metadata": {
      "needs_background": "light"
     },
     "output_type": "display_data"
    }
   ],
   "source": [
    "d = df.groupby('type')['amount'].sum()\n",
    "plt.figure(figsize=(10,8))\n",
    "ax = sns.barplot(x=d.index,y=d.values)\n",
    "for p in ax.patches:\n",
    "    ax.annotate(str(format(int(p.get_height()), ',d')), (p.get_x()+0.24, p.get_height()*1.01))\n",
    "    \n",
    "plt.title(\"Total amount in each transaction type\", size=15)\n",
    "plt.yticks([])\n",
    "plt.xlabel(\"Transaction Type\")"
   ]
  },
  {
   "cell_type": "code",
   "execution_count": 20,
   "metadata": {
    "execution": {
     "iopub.execute_input": "2022-03-18T08:28:18.468725Z",
     "iopub.status.busy": "2022-03-18T08:28:18.468406Z",
     "iopub.status.idle": "2022-03-18T08:28:19.072900Z",
     "shell.execute_reply": "2022-03-18T08:28:19.072275Z",
     "shell.execute_reply.started": "2022-03-18T08:28:18.468686Z"
    }
   },
   "outputs": [
    {
     "data": {
      "text/plain": [
       "(array([0, 1, 2, 3]),\n",
       " [Text(0, 0, '(CASH_OUT, 0)'),\n",
       "  Text(1, 0, '(CASH_OUT, 1)'),\n",
       "  Text(2, 0, '(TRANSFER, 0)'),\n",
       "  Text(3, 0, '(TRANSFER, 1)')])"
      ]
     },
     "execution_count": 20,
     "metadata": {},
     "output_type": "execute_result"
    },
    {
     "data": {
      "image/png": "[encoded data removed]",
      "text/plain": [
       "<Figure size 720x576 with 1 Axes>"
      ]
     },
     "metadata": {
      "needs_background": "light"
     },
     "output_type": "display_data"
    }
   ],
   "source": [
    "plt.figure(figsize=(10,8))\n",
    "ax = df.groupby(['type','isFraud']).size().plot(kind='bar', color='pink')\n",
    "\n",
    "for p in ax.patches:\n",
    "    ax.annotate(str(format(int(p.get_height()), ',d')), (p.get_x(), p.get_height()*1.01))\n",
    "plt.title(\"Total Fraud Amount Transactions\",size=15)\n",
    "plt.xlabel(\"Transaction Type\", size= 10)\n",
    "plt.yticks([])\n",
    "plt.xticks(rotation=45)"
   ]
  },
  {
   "cell_type": "markdown",
   "metadata": {},
   "source": [
    "*Deleting the unwanted columns for Prediction*"
   ]
  },
  {
   "cell_type": "code",
   "execution_count": 21,
   "metadata": {
    "execution": {
     "iopub.execute_input": "2022-03-18T08:28:19.074325Z",
     "iopub.status.busy": "2022-03-18T08:28:19.073867Z",
     "iopub.status.idle": "2022-03-18T08:28:19.147545Z",
     "shell.execute_reply": "2022-03-18T08:28:19.146470Z",
     "shell.execute_reply.started": "2022-03-18T08:28:19.074289Z"
    }
   },
   "outputs": [
    {
     "data": {
      "text/html": [
       "<div>\n",
       "<style scoped>\n",
       "    .dataframe tbody tr th:only-of-type {\n",
       "        vertical-align: middle;\n",
       "    }\n",
       "\n",
       "    .dataframe tbody tr th {\n",
       "        vertical-align: top;\n",
       "    }\n",
       "\n",
       "    .dataframe thead th {\n",
       "        text-align: right;\n",
       "    }\n",
       "</style>\n",
       "<table border=\"1\" class=\"dataframe\">\n",
       "  <thead>\n",
       "    <tr style=\"text-align: right;\">\n",
       "      <th></th>\n",
       "      <th>amount</th>\n",
       "      <th>oldbalanceOrg</th>\n",
       "      <th>newbalanceOrig</th>\n",
       "      <th>oldbalanceDest</th>\n",
       "      <th>newbalanceDest</th>\n",
       "      <th>isFraud</th>\n",
       "    </tr>\n",
       "  </thead>\n",
       "  <tbody>\n",
       "    <tr>\n",
       "      <th>2</th>\n",
       "      <td>181.00</td>\n",
       "      <td>181.0</td>\n",
       "      <td>0.0</td>\n",
       "      <td>0.0</td>\n",
       "      <td>0.00</td>\n",
       "      <td>1</td>\n",
       "    </tr>\n",
       "    <tr>\n",
       "      <th>3</th>\n",
       "      <td>181.00</td>\n",
       "      <td>181.0</td>\n",
       "      <td>0.0</td>\n",
       "      <td>21182.0</td>\n",
       "      <td>0.00</td>\n",
       "      <td>1</td>\n",
       "    </tr>\n",
       "    <tr>\n",
       "      <th>15</th>\n",
       "      <td>229133.94</td>\n",
       "      <td>15325.0</td>\n",
       "      <td>0.0</td>\n",
       "      <td>5083.0</td>\n",
       "      <td>51513.44</td>\n",
       "      <td>0</td>\n",
       "    </tr>\n",
       "    <tr>\n",
       "      <th>19</th>\n",
       "      <td>215310.30</td>\n",
       "      <td>705.0</td>\n",
       "      <td>0.0</td>\n",
       "      <td>22425.0</td>\n",
       "      <td>0.00</td>\n",
       "      <td>0</td>\n",
       "    </tr>\n",
       "    <tr>\n",
       "      <th>24</th>\n",
       "      <td>311685.89</td>\n",
       "      <td>10835.0</td>\n",
       "      <td>0.0</td>\n",
       "      <td>6267.0</td>\n",
       "      <td>2719172.89</td>\n",
       "      <td>0</td>\n",
       "    </tr>\n",
       "  </tbody>\n",
       "</table>\n",
       "</div>"
      ],
      "text/plain": [
       "       amount  oldbalanceOrg  newbalanceOrig  oldbalanceDest  newbalanceDest  \\\n",
       "2      181.00          181.0             0.0             0.0            0.00   \n",
       "3      181.00          181.0             0.0         21182.0            0.00   \n",
       "15  229133.94        15325.0             0.0          5083.0        51513.44   \n",
       "19  215310.30          705.0             0.0         22425.0            0.00   \n",
       "24  311685.89        10835.0             0.0          6267.0      2719172.89   \n",
       "\n",
       "    isFraud  \n",
       "2         1  \n",
       "3         1  \n",
       "15        0  \n",
       "19        0  \n",
       "24        0  "
      ]
     },
     "execution_count": 21,
     "metadata": {},
     "output_type": "execute_result"
    }
   ],
   "source": [
    "df.drop(['step','type','nameOrig','nameDest','error_orig','error_dest','isFlaggedFraud'],axis=1,inplace=True)\n",
    "df.head()"
   ]
  },
  {
   "cell_type": "markdown",
   "metadata": {},
   "source": [
    "Here, I have dropped columns like 'step','type','nameOrig','nameDest','error_orig','error_dest','isFlaggedFraud' because according to me, focussing major on the before transaction balance, after transaction balance & amount sent would be a better choice for the Fraud detecting model."
   ]
  },
  {
   "cell_type": "markdown",
   "metadata": {},
   "source": [
    "*Importing the sklearn libraraies*"
   ]
  },
  {
   "cell_type": "code",
   "execution_count": 22,
   "metadata": {
    "execution": {
     "iopub.execute_input": "2022-03-18T08:28:19.148960Z",
     "iopub.status.busy": "2022-03-18T08:28:19.148707Z",
     "iopub.status.idle": "2022-03-18T08:28:19.381221Z",
     "shell.execute_reply": "2022-03-18T08:28:19.380403Z",
     "shell.execute_reply.started": "2022-03-18T08:28:19.148932Z"
    }
   },
   "outputs": [],
   "source": [
    "from sklearn.preprocessing import StandardScaler\n",
    "from sklearn.model_selection import train_test_split\n",
    "from sklearn.linear_model import LogisticRegression\n",
    "from sklearn.metrics import f1_score, accuracy_score, confusion_matrix,roc_auc_score, classification_report\n",
    "from sklearn.utils import resample\n",
    "from sklearn.ensemble import RandomForestClassifier"
   ]
  },
  {
   "cell_type": "markdown",
   "metadata": {
    "execution": {
     "iopub.execute_input": "2022-03-17T10:26:51.866146Z",
     "iopub.status.busy": "2022-03-17T10:26:51.865021Z",
     "iopub.status.idle": "2022-03-17T10:26:51.87334Z",
     "shell.execute_reply": "2022-03-17T10:26:51.872239Z",
     "shell.execute_reply.started": "2022-03-17T10:26:51.866056Z"
    }
   },
   "source": [
    "*Standardizing all the continuous values to be between 0 and 1*"
   ]
  },
  {
   "cell_type": "code",
   "execution_count": 23,
   "metadata": {
    "execution": {
     "iopub.execute_input": "2022-03-18T08:28:19.382751Z",
     "iopub.status.busy": "2022-03-18T08:28:19.382527Z",
     "iopub.status.idle": "2022-03-18T08:28:19.622744Z",
     "shell.execute_reply": "2022-03-18T08:28:19.621998Z",
     "shell.execute_reply.started": "2022-03-18T08:28:19.382722Z"
    }
   },
   "outputs": [],
   "source": [
    "ss = StandardScaler()\n",
    "\n",
    "df.amount         = ss.fit_transform(df[['amount']])\n",
    "df.oldbalanceOrg  = ss.fit_transform(df[['oldbalanceOrg']])\n",
    "df.oldbalanceDest = ss.fit_transform(df[['oldbalanceDest']])\n",
    "df.newbalanceOrig = ss.fit_transform(df[['newbalanceOrig']])\n",
    "df.newbalanceDest = ss.fit_transform(df[['newbalanceDest']])"
   ]
  },
  {
   "cell_type": "markdown",
   "metadata": {},
   "source": [
    "# Training & Testing Data"
   ]
  },
  {
   "cell_type": "code",
   "execution_count": 24,
   "metadata": {
    "execution": {
     "iopub.execute_input": "2022-03-18T08:28:19.626690Z",
     "iopub.status.busy": "2022-03-18T08:28:19.626378Z",
     "iopub.status.idle": "2022-03-18T08:28:19.671630Z",
     "shell.execute_reply": "2022-03-18T08:28:19.670218Z",
     "shell.execute_reply.started": "2022-03-18T08:28:19.626658Z"
    }
   },
   "outputs": [],
   "source": [
    "X = df.drop(['isFraud'], axis=1)\n",
    "y = df['isFraud']"
   ]
  },
  {
   "cell_type": "markdown",
   "metadata": {},
   "source": [
    "I am taking, X= (old_origin_balance, old_destination_balance, new_origin_balance, new_destination_balance) & y= (isFraud).   Because according to me these are the features which will be best for the Prediction model. "
   ]
  },
  {
   "cell_type": "code",
   "execution_count": 25,
   "metadata": {
    "execution": {
     "iopub.execute_input": "2022-03-18T08:32:42.969642Z",
     "iopub.status.busy": "2022-03-18T08:32:42.969308Z",
     "iopub.status.idle": "2022-03-18T08:32:44.476408Z",
     "shell.execute_reply": "2022-03-18T08:32:44.475565Z",
     "shell.execute_reply.started": "2022-03-18T08:32:42.969610Z"
    }
   },
   "outputs": [
    {
     "data": {
      "text/plain": [
       "((2077806, 5), (692603, 5), (2077806,), (692603,))"
      ]
     },
     "execution_count": 25,
     "metadata": {},
     "output_type": "execute_result"
    }
   ],
   "source": [
    "X_train, X_test, y_train, y_test = train_test_split(X, y, stratify=y)\n",
    "X_train.shape, X_test.shape, y_train.shape, y_test.shape"
   ]
  },
  {
   "cell_type": "code",
   "execution_count": 26,
   "metadata": {
    "execution": {
     "iopub.execute_input": "2022-03-18T08:34:23.286322Z",
     "iopub.status.busy": "2022-03-18T08:34:23.285306Z",
     "iopub.status.idle": "2022-03-18T08:34:30.818655Z",
     "shell.execute_reply": "2022-03-18T08:34:30.817717Z",
     "shell.execute_reply.started": "2022-03-18T08:34:23.286275Z"
    }
   },
   "outputs": [
    {
     "data": {
      "text/plain": [
       "LogisticRegression()"
      ]
     },
     "execution_count": 26,
     "metadata": {},
     "output_type": "execute_result"
    }
   ],
   "source": [
    "lg= LogisticRegression()\n",
    "lg.fit(X_train, y_train)"
   ]
  },
  {
   "cell_type": "code",
   "execution_count": 27,
   "metadata": {
    "execution": {
     "iopub.execute_input": "2022-03-18T08:34:33.258350Z",
     "iopub.status.busy": "2022-03-18T08:34:33.257475Z",
     "iopub.status.idle": "2022-03-18T08:34:33.276376Z",
     "shell.execute_reply": "2022-03-18T08:34:33.275445Z",
     "shell.execute_reply.started": "2022-03-18T08:34:33.258299Z"
    }
   },
   "outputs": [],
   "source": [
    "predictions = lg.predict(X_test)"
   ]
  },
  {
   "cell_type": "markdown",
   "metadata": {},
   "source": [
    "*Plotting the Confusion Matrix*"
   ]
  },
  {
   "cell_type": "code",
   "execution_count": 28,
   "metadata": {
    "execution": {
     "iopub.execute_input": "2022-03-18T08:44:52.003748Z",
     "iopub.status.busy": "2022-03-18T08:44:52.003458Z",
     "iopub.status.idle": "2022-03-18T08:44:52.010025Z",
     "shell.execute_reply": "2022-03-18T08:44:52.009095Z",
     "shell.execute_reply.started": "2022-03-18T08:44:52.003719Z"
    }
   },
   "outputs": [],
   "source": [
    "def conf_matrix(y_test, pred_test):    \n",
    "    \n",
    "    # Creating a confusion matrix\n",
    "    con_mat = confusion_matrix(y_test, pred_test)\n",
    "    con_mat = pd.DataFrame(con_mat, range(2), range(2))\n",
    "   \n",
    "    #Ploting the confusion matrix\n",
    "    \n",
    "    plt.figure(figsize=(6,6))\n",
    "    plt.title(\"Confusion Matrix\")\n",
    "    sns.set(font_scale=1.5) \n",
    "    sns.heatmap(con_mat, annot=True, annot_kws={\"size\": 16}, fmt='g', cmap='Blues', cbar=False)\n",
    "    "
   ]
  },
  {
   "cell_type": "code",
   "execution_count": 29,
   "metadata": {
    "execution": {
     "iopub.execute_input": "2022-03-18T08:45:05.041536Z",
     "iopub.status.busy": "2022-03-18T08:45:05.041004Z",
     "iopub.status.idle": "2022-03-18T08:45:05.225490Z",
     "shell.execute_reply": "2022-03-18T08:45:05.224912Z",
     "shell.execute_reply.started": "2022-03-18T08:45:05.041483Z"
    }
   },
   "outputs": [
    {
     "data": {
      "image/png": "[encoded data removed]",
      "text/plain": [
       "<Figure size 432x432 with 1 Axes>"
      ]
     },
     "metadata": {
      "needs_background": "light"
     },
     "output_type": "display_data"
    }
   ],
   "source": [
    "conf_matrix(y_test, predictions)"
   ]
  },
  {
   "cell_type": "code",
   "execution_count": 30,
   "metadata": {
    "execution": {
     "iopub.execute_input": "2022-03-18T08:47:50.826284Z",
     "iopub.status.busy": "2022-03-18T08:47:50.825622Z",
     "iopub.status.idle": "2022-03-18T08:47:50.844937Z",
     "shell.execute_reply": "2022-03-18T08:47:50.844173Z",
     "shell.execute_reply.started": "2022-03-18T08:47:50.826242Z"
    }
   },
   "outputs": [
    {
     "name": "stdout",
     "output_type": "stream",
     "text": [
      "How many class does the model predict?\n",
      " [0 1]\n",
      "\n",
      " Numbers in each class: \n",
      " 0 : 691623\n",
      " 1 : 980\n"
     ]
    }
   ],
   "source": [
    "print(\"How many class does the model predict?\\n\",np.unique(predictions))\n",
    "print(\"\\n\",\"Numbers in each class:\",\"\\n 0 :\",len(predictions[predictions==0]))\n",
    "print(\" 1 :\",len(predictions[predictions==1]))"
   ]
  },
  {
   "cell_type": "code",
   "execution_count": 31,
   "metadata": {
    "execution": {
     "iopub.execute_input": "2022-03-18T08:48:21.661472Z",
     "iopub.status.busy": "2022-03-18T08:48:21.660645Z",
     "iopub.status.idle": "2022-03-18T08:48:21.886671Z",
     "shell.execute_reply": "2022-03-18T08:48:21.885699Z",
     "shell.execute_reply.started": "2022-03-18T08:48:21.661433Z"
    }
   },
   "outputs": [
    {
     "name": "stdout",
     "output_type": "stream",
     "text": [
      "f1 score: 0.5881965051104517 \n",
      "\n",
      "Accuracy of this model: 0.9981966581143887\n",
      "Accuracy in %: 99.82 %\n"
     ]
    }
   ],
   "source": [
    "f1score = f1_score(y_test, predictions)\n",
    "print('f1 score:', f1score,'\\n')\n",
    "\n",
    "acc_lg= accuracy_score(y_test, predictions)\n",
    "print(\"Accuracy of this model:\", acc_lg)\n",
    "print(\"Accuracy in %:\", round(acc_lg*100, ndigits=2),\"%\")"
   ]
  },
  {
   "cell_type": "markdown",
   "metadata": {},
   "source": [
    "As my model has acquired an Accuracy of 99.82% , I can say that the variables which I have choosen above for my model are the right choice.\n",
    "It makes sense to me that in order to find the fraud in transaction the key features should be Balance the Total Amount being Sent and Balance of Sender & Reciever before and after the transaction as the transaction fraud can most likely happen between these stages. "
   ]
  },
  {
   "cell_type": "markdown",
   "metadata": {},
   "source": [
    "Now, As for Prevention, company should have custom model for checking any mistmatch in Balance of Sender or Reciever while any mode of transaction is taking place. Because then, Then & there will be error can get detected & further measures can be taken."
   ]
  },
  {
   "cell_type": "markdown",
   "metadata": {},
   "source": [
    "Now, for Checking whether this model work or not we can always do weekly or monthly check-up with this Fraud Detecting Model to see if the there is any discrepencies happening with that process. "
   ]
  },
  {
   "cell_type": "markdown",
   "metadata": {},
   "source": [
    "**-/Done/-**"
   ]
  }
 ],
 "metadata": {
  "kernelspec": {
   "display_name": "Python 3 (ipykernel)",
   "language": "python",
   "name": "python3"
  },
  "language_info": {
   "codemirror_mode": {
    "name": "ipython",
    "version": 3
   },
   "file_extension": ".py",
   "mimetype": "text/x-python",
   "name": "python",
   "nbconvert_exporter": "python",
   "pygments_lexer": "ipython3",
   "version": "3.9.7"
  }
 },
 "nbformat": 4,
 "nbformat_minor": 4
}
